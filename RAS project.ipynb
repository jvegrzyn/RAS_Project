{
 "cells": [
  {
   "cell_type": "code",
   "execution_count": 3,
   "metadata": {},
   "outputs": [],
   "source": [
    "from fluegg.ras import RASProject\n",
    "project_file_path = r'E:\\Share\\ActualSanduskyRiver\\HEC-RAS_Sandusky_Meters_full_BallvilleDamprior_2017Sep01\\BallvilleDam_Updated.prj'"
   ]
  },
  {
   "cell_type": "code",
   "execution_count": 4,
   "metadata": {},
   "outputs": [
    {
     "name": "stdout",
     "output_type": "stream",
     "text": [
      "July2017\n",
      "May3007\n",
      "HollyEvent01\n",
      "HollyEvent02\n",
      "HollyEvent03\n",
      "HollyEvent04\n",
      "HollyEvent05\n",
      "HollyEvent4&5\n",
      "AprMay2017\n",
      "HistoricalEvent01\n",
      "HistoricalEvent02\n",
      "HistoricalEvent03\n",
      "HistoricalEvent04\n",
      "PK-May2017\n",
      "PK-July2017\n",
      "July17OneM\n"
     ]
    }
   ],
   "source": [
    "with RASProject(project_file_path) as rp:\n",
    "    for plan_name in rp.plan_names():\n",
    "        print(plan_name)"
   ]
  },
  {
   "cell_type": "code",
   "execution_count": 5,
   "metadata": {},
   "outputs": [
    {
     "name": "stdout",
     "output_type": "stream",
     "text": [
      "July2017\n"
     ]
    }
   ],
   "source": [
    "with RASProject(project_file_path) as rp:\n",
    "    plan_names = rp.plan_names()\n",
    "    new_plan_name = plan_names[0] #index for plan\n",
    "    rp.set_current_plan(new_plan_name)\n",
    "    print(rp.current_plan_name())\n",
    "    hydrualic_data = rp.hydraulic_model_data('Unsteady')"
   ]
  },
  {
   "cell_type": "code",
   "execution_count": 6,
   "metadata": {},
   "outputs": [],
   "source": [
    "h5_file_path = 'Sandusky unsteady fluegg data.h5'\n",
    "hydrualic_data.to_hdf(h5_file_path, 'unsteady')"
   ]
  },
  {
   "cell_type": "code",
   "execution_count": 8,
   "metadata": {},
   "outputs": [],
   "source": [
    "#help(RASProject)"
   ]
  },
  {
   "cell_type": "code",
   "execution_count": null,
   "metadata": {},
   "outputs": [],
   "source": []
  },
  {
   "cell_type": "code",
   "execution_count": null,
   "metadata": {},
   "outputs": [],
   "source": []
  }
 ],
 "metadata": {
  "kernelspec": {
   "display_name": "Python 3",
   "language": "python",
   "name": "python3"
  },
  "language_info": {
   "codemirror_mode": {
    "name": "ipython",
    "version": 3
   },
   "file_extension": ".py",
   "mimetype": "text/x-python",
   "name": "python",
   "nbconvert_exporter": "python",
   "pygments_lexer": "ipython3",
   "version": "3.6.6"
  }
 },
 "nbformat": 4,
 "nbformat_minor": 2
}
